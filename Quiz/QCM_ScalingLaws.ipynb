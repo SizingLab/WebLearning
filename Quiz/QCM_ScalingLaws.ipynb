{
 "cells": [
  {
   "cell_type": "markdown",
   "metadata": {},
   "source": [
    "# QUIZ: Estimation models - Scaling laws\n",
    "\n",
    "*Written by Marc Budinger, INSA Toulouse*"
   ]
  },
  {
   "cell_type": "code",
   "execution_count": 1,
   "metadata": {},
   "outputs": [],
   "source": [
    "import QCM_widget as QCM"
   ]
  },
  {
   "cell_type": "markdown",
   "metadata": {},
   "source": [
    "## Recall on scaling laws \n",
    "\n",
    "Assumptions:  \n",
    "- Geometrical similarity \n",
    "- Material similarity\n",
    "- One dominant phenomena\n",
    "\n",
    "Mathematical form: $y=kL^a$  \n",
    "with $k$ function of reference and $a$ of physical effect\n",
    "\n",
    "Notation:\t\t\t$y^*=L^{*a}$\n",
    "\n",
    "![Notation](./Pictures/ScalingGeometricSimilarity.png)\n",
    "\n",
    "Obtention ways:\t\n",
    "- direct manipulation of equations\n",
    "- dimensional analysis and Buckingham theorem\n",
    "\n",
    "Components: \t\t\n",
    "One main design driver express by a constant stress $X^*=1$\n"
   ]
  },
  {
   "cell_type": "markdown",
   "metadata": {},
   "source": [
    "## Geometric similarity\n",
    "\n",
    "We assume to have similarity on all geometrical parameters : r* = d* = …= l*\n",
    "\n",
    "\n",
    "q1) Give evolution of areas:  a. $𝑙^∗$\tb.  $𝑙^{∗2}$\tc. $𝑙^{∗−2}$\td. $𝑙^{∗1/2}$  e. $𝑙^{∗-1/2}$"
   ]
  },
  {
   "cell_type": "code",
   "execution_count": 5,
   "metadata": {},
   "outputs": [
    {
     "data": {
      "application/vnd.jupyter.widget-view+json": {
       "model_id": "0800f6632d204de18b0900425074f566",
       "version_major": 2,
       "version_minor": 0
      },
      "text/plain": [
       "VBox(children=(Output(), RadioButtons(options=(('a', 0), ('b', 1), ('c', 2), ('d', 3), ('e', 4)), value=0), Bu…"
      ]
     },
     "metadata": {},
     "output_type": "display_data"
    }
   ],
   "source": [
    "QCM.quiz(1,\"ScalingQuizz.xlsx\")"
   ]
  },
  {
   "cell_type": "markdown",
   "metadata": {},
   "source": [
    "q2) Give evolution of volumes : a. $𝑙^∗$\tb. $𝑙^{∗2}$\tc. $𝑙^{∗3}$\td. $𝑙^{∗−3}$  e. $𝑙^{∗1/3}$"
   ]
  },
  {
   "cell_type": "code",
   "execution_count": 8,
   "metadata": {},
   "outputs": [
    {
     "data": {
      "application/vnd.jupyter.widget-view+json": {
       "model_id": "a75f80d8de394f06b133d9c72ebcde73",
       "version_major": 2,
       "version_minor": 0
      },
      "text/plain": [
       "VBox(children=(Output(), RadioButtons(options=(('a', 0), ('b', 1), ('c', 2), ('d', 3), ('e', 4)), value=0), Bu…"
      ]
     },
     "metadata": {},
     "output_type": "display_data"
    }
   ],
   "source": [
    "QCM.quiz(2,\"ScalingQuizz.xlsx\")"
   ]
  },
  {
   "cell_type": "markdown",
   "metadata": {},
   "source": [
    "q3) Give evolution of masses : a. $𝑙^∗$\tb. $𝑙^{∗2}$\tc. $𝑙^{∗3}$\td. $𝑙^{∗−3}$  e. $𝑙^{∗1/3}$"
   ]
  },
  {
   "cell_type": "code",
   "execution_count": 7,
   "metadata": {},
   "outputs": [
    {
     "data": {
      "application/vnd.jupyter.widget-view+json": {
       "model_id": "fb3eeeda72774407a891f360204abb14",
       "version_major": 2,
       "version_minor": 0
      },
      "text/plain": [
       "VBox(children=(Output(), RadioButtons(options=(('a', 0), ('b', 1), ('c', 2), ('d', 3), ('e', 4)), value=0), Bu…"
      ]
     },
     "metadata": {},
     "output_type": "display_data"
    }
   ],
   "source": [
    "QCM.quiz(3,\"ScalingQuizz.xlsx\")"
   ]
  },
  {
   "cell_type": "markdown",
   "metadata": {},
   "source": [
    "q4) Give evolution of inertias : a. $𝑙^{∗2}$\tb. $𝑙^{∗3}$\tc. $𝑙^{*4}$\td. $𝑙^{∗5}$  e. $𝑙^{∗6}$"
   ]
  },
  {
   "cell_type": "code",
   "execution_count": 9,
   "metadata": {},
   "outputs": [
    {
     "data": {
      "application/vnd.jupyter.widget-view+json": {
       "model_id": "b7c415e7541b40e4b9f56f46b180f4b9",
       "version_major": 2,
       "version_minor": 0
      },
      "text/plain": [
       "VBox(children=(Output(), RadioButtons(options=(('a', 0), ('b', 1), ('c', 2), ('d', 3), ('e', 4)), value=0), Bu…"
      ]
     },
     "metadata": {},
     "output_type": "display_data"
    }
   ],
   "source": [
    "QCM.quiz(4,\"ScalingQuizz.xlsx\")"
   ]
  },
  {
   "cell_type": "code",
   "execution_count": null,
   "metadata": {},
   "outputs": [],
   "source": []
  }
 ],
 "metadata": {
  "kernelspec": {
   "display_name": "Python 3",
   "language": "python",
   "name": "python3"
  },
  "language_info": {
   "codemirror_mode": {
    "name": "ipython",
    "version": 3
   },
   "file_extension": ".py",
   "mimetype": "text/x-python",
   "name": "python",
   "nbconvert_exporter": "python",
   "pygments_lexer": "ipython3",
   "version": "3.6.4"
  }
 },
 "nbformat": 4,
 "nbformat_minor": 2
}
